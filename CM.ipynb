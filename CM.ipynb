{
 "cells": [
  {
   "cell_type": "code",
   "execution_count": 8,
   "metadata": {
    "id": "lkLnfbLLwxxS"
   },
   "outputs": [],
   "source": [
    "import torch\n",
    "from torch import nn\n",
    "from sklearn import model_selection\n",
    "import pandas as pd\n",
    "import matplotlib.pyplot as plt\n",
    "import seaborn as sn\n",
    "from IPython import display\n",
    "from sklearn.ensemble import GradientBoostingRegressor\n",
    "from sklearn.metrics import mean_squared_error, r2_score\n",
    "\n",
    "import typing\n",
    "%matplotlib inline"
   ]
  },
  {
   "cell_type": "code",
   "execution_count": 31,
   "metadata": {
    "id": "LJJVj3d3b43I"
   },
   "outputs": [
    {
     "name": "stdout",
     "output_type": "stream",
     "text": [
      "300\n",
      "Node ID                       0\n",
      "Active Conns                  0\n",
      "Node Performance (Score)      0\n",
      "Response Time (ms)            0\n",
      "Min Data Transfer (MB)        0\n",
      "Task Queue Length             0\n",
      "Вероятность назначения (%)    0\n",
      "dtype: int64\n",
      "   Node ID  Active Conns  Node Performance (Score)  Response Time (ms)  \\\n",
      "0        0            63                        77                  20   \n",
      "1        1            76                        84                  25   \n",
      "\n",
      "   Min Data Transfer (MB)  Task Queue Length  Вероятность назначения (%)  \n",
      "0                       8                  3                        0.37  \n",
      "1                      11                  5                        0.37  \n"
     ]
    },
    {
     "name": "stderr",
     "output_type": "stream",
     "text": [
      "/var/folders/pr/6kk4szb92094frg09x2xvl6r0000gn/T/ipykernel_16003/1662897797.py:26: FutureWarning: A value is trying to be set on a copy of a DataFrame or Series through chained assignment using an inplace method.\n",
      "The behavior will change in pandas 3.0. This inplace method will never work because the intermediate object on which we are setting values always behaves as a copy.\n",
      "\n",
      "For example, when doing 'df[col].method(value, inplace=True)', try using 'df.method({col: value}, inplace=True)' or df[col] = df[col].method(value) instead, to perform the operation inplace on the original object.\n",
      "\n",
      "\n",
      "  df[col].fillna(df[col].mean(), inplace=True)\n"
     ]
    }
   ],
   "source": [
    "# Читаем CSV-файл\n",
    "cm = pd.read_csv('nodes_parameters_300.csv')\n",
    "\n",
    "# Выводим количество строк\n",
    "print(len(cm))\n",
    "\n",
    "# Преобразуем все объектные столбцы, за исключением \"Вероятность назначения (%)\"\n",
    "for col in cm.select_dtypes(include=['object']).columns:\n",
    "    if col != \"Вероятность назначения (%)\":\n",
    "        cm[col] = pd.factorize(cm[col])[0]\n",
    "\n",
    "# Обрабатываем столбец \"Вероятность назначения (%)\": удаляем '%' и приводим к float\n",
    "if \"Вероятность назначения (%)\" in cm.columns:\n",
    "    cm[\"Вероятность назначения (%)\"] = cm[\"Вероятность назначения (%)\"].str.replace('%', '', regex=False).astype(float)\n",
    "\n",
    "# Функция для очистки данных\n",
    "def clean_training_data(df):\n",
    "    # 1. Удаляем дубликаты\n",
    "    df = df.drop_duplicates() \n",
    "\n",
    "    # 2. Заполняем пропуски средним значением по числовым столбцам\n",
    "    df.fillna(df.mean(numeric_only=True), inplace=True)\n",
    "\n",
    "    # 3. Обработка числовых столбцов\n",
    "    for col in df.select_dtypes(include=['number']).columns:\n",
    "        df[col].fillna(df[col].mean(), inplace=True)\n",
    "\n",
    "    # 4. Удаляем выбросы с помощью метода IQR\n",
    "    Q1 = df.quantile(0.25)\n",
    "    Q3 = df.quantile(0.75)\n",
    "    IQR = Q3 - Q1\n",
    "    df = df[~((df < (Q1 - 1.5 * IQR)) | (df > (Q3 + 1.5 * IQR))).any(axis=1)]\n",
    "\n",
    "    return df\n",
    "\n",
    "# Проверяем пропуски\n",
    "missing_counts = cm.isna().sum()\n",
    "print(missing_counts)\n",
    "\n",
    "# Очищаем данные\n",
    "cm = clean_training_data(cm)\n",
    "\n",
    "# Выводим первые 2 строки\n",
    "print(cm.head(2))\n"
   ]
  },
  {
   "cell_type": "code",
   "execution_count": 32,
   "metadata": {
    "id": "Lad3ihXjd-Ev"
   },
   "outputs": [
    {
     "name": "stdout",
     "output_type": "stream",
     "text": [
      "tensor([[232.,  67.,  89.,  28.,  16.,   7.],\n",
      "        [ 59.,  77.,  87.,  27.,   9.,   1.],\n",
      "        [  6., 141.,  88.,  50.,  10.,   5.],\n",
      "        ...,\n",
      "        [106., 186.,  75.,  46.,   6.,   5.],\n",
      "        [270.,  59.,  76.,  38.,  18.,   3.],\n",
      "        [102., 134.,  78.,  26.,  10.,   7.]])\n"
     ]
    }
   ],
   "source": [
    "x_train, x_test, y_train, y_test = model_selection.train_test_split(\n",
    "    cm.loc[:, cm.columns != 'Вероятность назначения (%)'],\n",
    "    cm['Вероятность назначения (%)'],\n",
    "    test_size=0.2,\n",
    "    random_state=42\n",
    "    )\n",
    "x_train = torch.from_numpy(x_train.values).float()\n",
    "x_test = torch.from_numpy(x_test.values).float()\n",
    "\n",
    "y_train = torch.from_numpy(y_train.values).float()\n",
    "y_train = y_train.reshape(-1, 1)\n",
    "\n",
    "y_test = torch.from_numpy(y_test.values).float()\n",
    "y_test = y_test.reshape(-1, 1)\n",
    "\n",
    "print(x_train)\n",
    "\n",
    "x_train = cm.drop(columns=['Вероятность назначения (%)'])\n",
    "y_train = cm['Вероятность назначения (%)']\n",
    "\n",
    "x_train = torch.from_numpy(x_train.values).float()\n",
    "y_train = torch.from_numpy(y_train.values).float()\n",
    "y_train = y_train.reshape(-1, 1)"
   ]
  },
  {
   "cell_type": "code",
   "execution_count": 33,
   "metadata": {},
   "outputs": [
    {
     "name": "stderr",
     "output_type": "stream",
     "text": [
      "/Users/agmac/Desktop/University/HSE/Diploma/venv/lib/python3.12/site-packages/sklearn/ensemble/_gb.py:672: DataConversionWarning: A column-vector y was passed when a 1d array was expected. Please change the shape of y to (n_samples, ), for example using ravel().\n",
      "  y = column_or_1d(y, warn=True)  # TODO: Is this still required?\n"
     ]
    }
   ],
   "source": [
    "gb_regressor = GradientBoostingRegressor(n_estimators=200, learning_rate=0.01, max_depth=10, random_state=42)\n",
    "gb_regressor.fit(x_train, y_train)\n",
    "\n",
    "# Делаем предсказание и оцениваем RMSE\n",
    "preds = gb_regressor.predict(x_test)\n",
    "# rmse = mean_squared_error(y_test, preds, squared=False)  # RMSE\n",
    "rmse = mean_squared_error(y_test, preds) ** 0.5  # Используем корень вручную\n"
   ]
  },
  {
   "cell_type": "code",
   "execution_count": 34,
   "metadata": {},
   "outputs": [
    {
     "name": "stdout",
     "output_type": "stream",
     "text": [
      "torch.Size([60, 1])\n",
      "torch.Size([60])\n"
     ]
    }
   ],
   "source": [
    "print(y_test.shape)\n",
    "preds = torch.tensor(preds)\n",
    "print(preds.shape)"
   ]
  },
  {
   "cell_type": "code",
   "execution_count": 35,
   "metadata": {},
   "outputs": [],
   "source": [
    "# y_test = torch.tensor(y_test) if not isinstance(y_test, torch.Tensor) else y_test\n",
    "# preds = torch.tensor(preds) if not isinstance(preds, torch.Tensor) else preds\n",
    "\n",
    "# Приведение preds к [20, 1] и объединение\n",
    "result = torch.cat((y_test, preds.view(-1, 1)), dim=1)"
   ]
  },
  {
   "cell_type": "code",
   "execution_count": 36,
   "metadata": {},
   "outputs": [
    {
     "data": {
      "text/plain": [
       "tensor([[0.2600, 0.2698],\n",
       "        [0.4000, 0.3911],\n",
       "        [0.4000, 0.3911],\n",
       "        [0.3400, 0.3391],\n",
       "        [0.3700, 0.3651],\n",
       "        [0.2800, 0.2871],\n",
       "        [0.3600, 0.3564],\n",
       "        [0.4900, 0.4690],\n",
       "        [0.2300, 0.2438],\n",
       "        [0.4000, 0.3911],\n",
       "        [0.4800, 0.4603],\n",
       "        [0.3400, 0.3391],\n",
       "        [0.3100, 0.3131],\n",
       "        [0.3500, 0.3478],\n",
       "        [0.3000, 0.3045],\n",
       "        [0.1700, 0.1919],\n",
       "        [0.4000, 0.3911],\n",
       "        [0.4300, 0.4170],\n",
       "        [0.2900, 0.2958],\n",
       "        [0.4500, 0.4344],\n",
       "        [0.2600, 0.2698],\n",
       "        [0.2800, 0.2871],\n",
       "        [0.3000, 0.3045],\n",
       "        [0.2900, 0.2958],\n",
       "        [0.3800, 0.3737],\n",
       "        [0.2400, 0.2525],\n",
       "        [0.4500, 0.4344],\n",
       "        [0.5100, 0.4863],\n",
       "        [0.2400, 0.2525],\n",
       "        [0.4800, 0.4603],\n",
       "        [0.2400, 0.2525],\n",
       "        [0.2100, 0.2265],\n",
       "        [0.2900, 0.2958],\n",
       "        [0.3900, 0.3824],\n",
       "        [0.5200, 0.4950],\n",
       "        [0.2300, 0.2438],\n",
       "        [0.4800, 0.4603],\n",
       "        [0.3300, 0.3304],\n",
       "        [0.3500, 0.3478],\n",
       "        [0.4100, 0.3997],\n",
       "        [0.3600, 0.3564],\n",
       "        [0.2700, 0.2785],\n",
       "        [0.3200, 0.3218],\n",
       "        [0.4100, 0.3997],\n",
       "        [0.2500, 0.2612],\n",
       "        [0.2000, 0.2179],\n",
       "        [0.2300, 0.2438],\n",
       "        [0.3500, 0.3478],\n",
       "        [0.2800, 0.2871],\n",
       "        [0.3700, 0.3651],\n",
       "        [0.5100, 0.4863],\n",
       "        [0.5000, 0.4777],\n",
       "        [0.3400, 0.3391],\n",
       "        [0.2700, 0.2785],\n",
       "        [0.3000, 0.3045],\n",
       "        [0.1400, 0.1659],\n",
       "        [0.2100, 0.2265],\n",
       "        [0.1200, 0.1486],\n",
       "        [0.2700, 0.2785],\n",
       "        [0.4000, 0.3911]], dtype=torch.float64)"
      ]
     },
     "execution_count": 36,
     "metadata": {},
     "output_type": "execute_result"
    }
   ],
   "source": [
    "result"
   ]
  },
  {
   "cell_type": "code",
   "execution_count": 37,
   "metadata": {},
   "outputs": [
    {
     "name": "stdout",
     "output_type": "stream",
     "text": [
      "tensor([ 3.7755,  2.2352,  2.2352,  0.2653,  1.3301,  2.5488,  0.9949,  4.2855,\n",
      "         6.0155,  2.2352,  4.0957,  0.2653,  1.0056,  0.6406,  1.4857, 12.8673,\n",
      "         2.2352,  3.0140,  1.9989,  3.4755,  3.7755,  2.5488,  1.4857,  1.9989,\n",
      "         1.6477,  5.2066,  3.4755,  4.6429,  5.2066,  4.0957,  5.2066,  7.8644,\n",
      "         1.9989,  1.9490,  4.8112,  6.0155,  4.0957,  0.1326,  0.6406,  2.5075,\n",
      "         0.9949,  3.1394,  0.5555,  2.5075,  4.4624,  8.9275,  6.0155,  0.6406,\n",
      "         2.5488,  1.3301,  4.6429,  4.4678,  0.2653,  3.1394,  1.4857, 18.4956,\n",
      "         7.8644, 23.8112,  3.1394,  2.2352], dtype=torch.float64)\n"
     ]
    }
   ],
   "source": [
    "percantage = abs((y_test.squeeze() - preds)/y_test.squeeze() * 100)\n",
    "print(percantage)\n",
    "# avg_per = torch.sum(percantage) / percantage.size(0)\n",
    "# print(avg_per)"
   ]
  },
  {
   "cell_type": "code",
   "execution_count": 38,
   "metadata": {},
   "outputs": [
    {
     "name": "stdout",
     "output_type": "stream",
     "text": [
      "\n",
      "Среднее процентное отклонение без выбросов:\n",
      "tensor(3.7830, dtype=torch.float64)\n"
     ]
    }
   ],
   "source": [
    "# Фильтрация выбросов > 50%\n",
    "filtered_percantage = percantage[percantage <= 50]\n",
    "\n",
    "# Подсчет среднего без выбросов\n",
    "if filtered_percantage.size(0) > 0:\n",
    "    avg_per = torch.sum(filtered_percantage) / filtered_percantage.size(0)\n",
    "else:\n",
    "    avg_per = torch.tensor(0.0)  # Защита от деления на ноль\n",
    "\n",
    "print(\"\\nСреднее процентное отклонение без выбросов:\")\n",
    "print(avg_per)"
   ]
  },
  {
   "cell_type": "markdown",
   "metadata": {},
   "source": [
    "Согласно полученным результатам, обученная модель может определять количество запросов в секунду с погрешнотью в 17%. Испытание было проведено на 80 входных данных для тренировки и 20 для тестирования. Использовался алгоритм обучения Gradient Boosting с фильтрацией входных параметров и преобработкой входных параметров (one-hot encoding, удаление строк со слишком большой разницей мат. ожидания)"
   ]
  },
  {
   "cell_type": "code",
   "execution_count": null,
   "metadata": {},
   "outputs": [],
   "source": []
  },
  {
   "cell_type": "code",
   "execution_count": null,
   "metadata": {},
   "outputs": [],
   "source": []
  }
 ],
 "metadata": {
  "colab": {
   "provenance": []
  },
  "kernelspec": {
   "display_name": "Python 3 (ipykernel)",
   "language": "python",
   "name": "python3"
  },
  "language_info": {
   "codemirror_mode": {
    "name": "ipython",
    "version": 3
   },
   "file_extension": ".py",
   "mimetype": "text/x-python",
   "name": "python",
   "nbconvert_exporter": "python",
   "pygments_lexer": "ipython3",
   "version": "3.12.4"
  }
 },
 "nbformat": 4,
 "nbformat_minor": 4
}
